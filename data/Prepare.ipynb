{
 "metadata": {
  "name": "",
  "signature": "sha256:02c751c3f00037cbd5b9f2b3fe86c395ca2d4fd612aa06b3c41ab5f4d983e326"
 },
 "nbformat": 3,
 "nbformat_minor": 0,
 "worksheets": [
  {
   "cells": [
    {
     "cell_type": "code",
     "collapsed": false,
     "input": [
      "import codecs, json\n",
      "from shapely.geometry import shape"
     ],
     "language": "python",
     "metadata": {},
     "outputs": [],
     "prompt_number": 31
    },
    {
     "cell_type": "code",
     "collapsed": false,
     "input": [
      "shp_dir = \"Census_GIS_Maps\"\n",
      "shp_1953 = \"1953/SDE2_CH_CENSUS1953.shp\"\n",
      "shp_1964 = \"1964/SDE2_CH_CENSUS1964.shp\"\n",
      "shp_1982 = \"1982/SDE2_CH_CENSUS1982.shp\"\n",
      "shp_1990A = \"1990/PartA/SDE2_CH_CENSUS1990_PARTA.shp\"\n",
      "shp_1990B = \"1990/PartB/SDE2_CH_CENSUS1990_PARTB.shp\"\n",
      "shp_2000 = \"2000/SDE2_CH_CENSUS2000.shp\"\n",
      "shp_2010A = \"2010/Maps/2010CountyCensusA.shp\"\n",
      "shp_2010L = \"2010/Maps/2010CountyCensusL.shp\""
     ],
     "language": "python",
     "metadata": {},
     "outputs": [],
     "prompt_number": 2
    },
    {
     "cell_type": "code",
     "collapsed": false,
     "input": [
      "shp_fn = shp_dir + \"/\" + shp_1953\n",
      "geojson_fn = \"1953.geojson\"\n",
      "cmd = \"ogr2ogr -f GeoJSON -t_srs crs:84 %s %s\" % (geojson_fn, shp_fn)\n",
      "print cmd\n",
      "!$cmd"
     ],
     "language": "python",
     "metadata": {},
     "outputs": [
      {
       "output_type": "stream",
       "stream": "stdout",
       "text": [
        "ogr2ogr -f GeoJSON -t_srs crs:84 1953.geojson Census_GIS_Maps/1953/SDE2_CH_CENSUS1953.shp\n"
       ]
      }
     ],
     "prompt_number": 9
    },
    {
     "cell_type": "code",
     "collapsed": false,
     "input": [
      "shp_fn = shp_dir + \"/\" + shp_1964\n",
      "geojson_fn = \"1964.geojson\"\n",
      "cmd = \"ogr2ogr -f GeoJSON -t_srs crs:84 %s %s\" % (geojson_fn, shp_fn)\n",
      "print cmd\n",
      "!$cmd"
     ],
     "language": "python",
     "metadata": {},
     "outputs": [
      {
       "output_type": "stream",
       "stream": "stdout",
       "text": [
        "ogr2ogr -f GeoJSON -t_srs crs:84 1964.geojson Census_GIS_Maps/1964/SDE2_CH_CENSUS1964.shp\n"
       ]
      }
     ],
     "prompt_number": 10
    },
    {
     "cell_type": "code",
     "collapsed": false,
     "input": [
      "shp_fn = shp_dir + \"/\" + shp_1982\n",
      "geojson_fn = \"1982.geojson\"\n",
      "cmd = \"ogr2ogr -f GeoJSON -t_srs crs:84 %s %s\" % (geojson_fn, shp_fn)\n",
      "print cmd\n",
      "!$cmd"
     ],
     "language": "python",
     "metadata": {},
     "outputs": [
      {
       "output_type": "stream",
       "stream": "stdout",
       "text": [
        "ogr2ogr -f GeoJSON -t_srs crs:84 1982.geojson Census_GIS_Maps/1982/SDE2_CH_CENSUS1982.shp\n"
       ]
      }
     ],
     "prompt_number": 11
    },
    {
     "cell_type": "code",
     "collapsed": false,
     "input": [
      "shp_fn = shp_dir + \"/\" + shp_1990A\n",
      "geojson_fn = \"1990A.geojson\"\n",
      "cmd = \"ogr2ogr -f GeoJSON -t_srs crs:84 %s %s\" % (geojson_fn, shp_fn)\n",
      "print cmd\n",
      "!$cmd"
     ],
     "language": "python",
     "metadata": {},
     "outputs": [
      {
       "output_type": "stream",
       "stream": "stdout",
       "text": [
        "ogr2ogr -f GeoJSON -t_srs crs:84 1990A.geojson Census_GIS_Maps/1990/PartA/SDE2_CH_CENSUS1990_PARTA.shp\n"
       ]
      }
     ],
     "prompt_number": 12
    },
    {
     "cell_type": "code",
     "collapsed": false,
     "input": [
      "shp_fn = shp_dir + \"/\" + shp_1990B\n",
      "geojson_fn = \"1990B.geojson\"\n",
      "cmd = \"ogr2ogr -f GeoJSON -t_srs crs:84 %s %s\" % (geojson_fn, shp_fn)\n",
      "print cmd\n",
      "!$cmd"
     ],
     "language": "python",
     "metadata": {},
     "outputs": [
      {
       "output_type": "stream",
       "stream": "stdout",
       "text": [
        "ogr2ogr -f GeoJSON -t_srs crs:84 1990B.geojson Census_GIS_Maps/1990/PartB/SDE2_CH_CENSUS1990_PARTB.shp\n"
       ]
      }
     ],
     "prompt_number": 13
    },
    {
     "cell_type": "code",
     "collapsed": false,
     "input": [
      "shp_fn = shp_dir + \"/\" + shp_2000\n",
      "geojson_fn = \"2000.geojson\"\n",
      "cmd = \"ogr2ogr -f GeoJSON -t_srs crs:84 %s %s\" % (geojson_fn, shp_fn)\n",
      "print cmd\n",
      "!$cmd"
     ],
     "language": "python",
     "metadata": {},
     "outputs": [
      {
       "output_type": "stream",
       "stream": "stdout",
       "text": [
        "ogr2ogr -f GeoJSON -t_srs crs:84 2000.geojson Census_GIS_Maps/2000/SDE2_CH_CENSUS2000.shp\n"
       ]
      }
     ],
     "prompt_number": 14
    },
    {
     "cell_type": "code",
     "collapsed": false,
     "input": [
      "shp_fn = shp_dir + \"/\" + shp_2010A\n",
      "geojson_fn = \"2010A.geojson\"\n",
      "cmd = \"ogr2ogr -f GeoJSON -t_srs crs:84 %s %s\" % (geojson_fn, shp_fn)\n",
      "print cmd\n",
      "!$cmd"
     ],
     "language": "python",
     "metadata": {},
     "outputs": [
      {
       "output_type": "stream",
       "stream": "stdout",
       "text": [
        "ogr2ogr -f GeoJSON -t_srs crs:84 2010A.geojson Census_GIS_Maps/2010/Maps/2010CountyCensusA.shp\n"
       ]
      }
     ],
     "prompt_number": 15
    },
    {
     "cell_type": "code",
     "collapsed": false,
     "input": [
      "with codecs.open(\"2000.geojson\", \"r\",encoding='utf-8', errors='ignore') as f:\n",
      "    census_2000 = json.load(f)"
     ],
     "language": "python",
     "metadata": {},
     "outputs": [],
     "prompt_number": 19
    },
    {
     "cell_type": "code",
     "collapsed": false,
     "input": [
      "geometry = census_2000['features'][0]['geometry']\n",
      "s = shape(geometry)\n",
      "print s.centroid.wkt"
     ],
     "language": "python",
     "metadata": {},
     "outputs": [
      {
       "output_type": "stream",
       "stream": "stdout",
       "text": [
        "POINT (120.5917248194904 30.03168345546439)\n"
       ]
      }
     ],
     "prompt_number": 35
    },
    {
     "cell_type": "code",
     "collapsed": false,
     "input": [],
     "language": "python",
     "metadata": {},
     "outputs": []
    }
   ],
   "metadata": {}
  }
 ]
}